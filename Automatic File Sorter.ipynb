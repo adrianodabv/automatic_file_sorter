{
 "cells": [
  {
   "cell_type": "markdown",
   "id": "e316ade6-c48d-4e0d-ba1c-075383bde26f",
   "metadata": {},
   "source": [
    "# Automatic File Sorter"
   ]
  },
  {
   "cell_type": "code",
   "execution_count": null,
   "id": "a9a38d32-0da3-477e-a1c7-4632d39c3cd3",
   "metadata": {},
   "outputs": [],
   "source": [
    "# Import all necessary modules\n",
    "import os, shutil, time\n",
    "\n",
    "# Define the path to the Downloads folder\n",
    "path = '/Users/adrianovasconcelos/Downloads/'\n",
    "\n",
    "# Create Folders\n",
    "folder_names = ['image files', 'movie files', 'pdf files', 'doc files', 'excel files', 'ppt files']\n",
    "for loop in range (0,6):\n",
    "    if not os.path.exists(path + folder_names[loop]):\n",
    "        os.makedirs((path + folder_names[loop]))\n",
    "\n",
    "# Define a function to move files\n",
    "def move_files():\n",
    "    file_name = os.listdir(path)\n",
    "    \n",
    "    for file in file_name:\n",
    "        # Move PDF files\n",
    "        if '.pdf' in file and not os.path.exists(path + 'pdf files/' + file):\n",
    "            shutil.move(path + file, path + 'pdf files/' + file)\n",
    "            \n",
    "        # Move image files\n",
    "        elif ('.jpg' in file or '.png' in file or '.jpeg' in file or '.JPG' in file) and not os.path.exists(path + 'image files/' + file):\n",
    "            shutil.move(path + file, path + 'image files/' + file)\n",
    "            \n",
    "        # Move movie files\n",
    "        elif ('.mp4' in file or '.mov' in file) and not os.path.exists(path + 'movie files/' + file):\n",
    "            shutil.move(path + file, path + 'movie files/' + file)\n",
    "            \n",
    "        # Move Document files\n",
    "        elif '.docx' in file and not os.path.exists(path + 'doc files/' + file):\n",
    "            shutil.move(path + file, path + 'doc files/' + file)\n",
    "            \n",
    "        # Move Excel files\n",
    "        elif ('.xls' in file or '.xlsx' in file) and not os.path.exists(path + 'excel files/' + file):\n",
    "            shutil.move(path + file, path + 'excel files/' + file)\n",
    "            \n",
    "        # Move PowerPoint files\n",
    "        elif '.pptx' in file and not os.path.exists(path + 'ppt files/' + file):\n",
    "            shutil.move(path + file, path + 'ppt files/' + file)\n",
    "\n",
    "move_files()\n",
    "\n",
    "# Repeat every hour\n",
    "while True:\n",
    "    move_files()\n",
    "    time.sleep(3600)"
   ]
  }
 ],
 "metadata": {
  "kernelspec": {
   "display_name": "Python 3 (ipykernel)",
   "language": "python",
   "name": "python3"
  },
  "language_info": {
   "codemirror_mode": {
    "name": "ipython",
    "version": 3
   },
   "file_extension": ".py",
   "mimetype": "text/x-python",
   "name": "python",
   "nbconvert_exporter": "python",
   "pygments_lexer": "ipython3",
   "version": "3.12.7"
  }
 },
 "nbformat": 4,
 "nbformat_minor": 5
}
